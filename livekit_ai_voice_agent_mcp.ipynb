{
 "cells": [
  {
   "cell_type": "code",
   "execution_count": 1,
   "id": "d1015a32-7ba4-483d-aa3a-44f1eba783e2",
   "metadata": {},
   "outputs": [],
   "source": [
    "# Livekit AI Voice Agent with MCP Server M-1\n",
    "\n",
    "# https://docs.livekit.io/agents/start/voice-ai/"
   ]
  },
  {
   "cell_type": "code",
   "execution_count": 2,
   "id": "4bb6efc0-3135-4947-ac6b-1a5421c1ee67",
   "metadata": {},
   "outputs": [],
   "source": [
    "# Choose kernel \"Python (.venv_livekit)\"\n",
    "\n",
    "# python -m venv .venv_livekit\n",
    "# .venv_livekit\\scripts\\activate\n",
    "# pip install ipykernel\n",
    "# python -m ipykernel install --user --name=.venv_livekit --display-name \"Python (.venv_livekit)\"\n",
    "\n",
    "# pip freeze > .req_venv_livekit"
   ]
  },
  {
   "cell_type": "code",
   "execution_count": 3,
   "id": "c509e44f-fffb-4c51-844b-2fbae15772c3",
   "metadata": {},
   "outputs": [],
   "source": [
    "# Description"
   ]
  },
  {
   "cell_type": "code",
   "execution_count": 5,
   "id": "c924f784-6209-4fd4-b3c0-41af0280b62e",
   "metadata": {},
   "outputs": [],
   "source": [
    "# Documentation\n",
    "# https://learn.deeplearning.ai/courses/building-ai-voice-agents-for-production/lesson/idsit/voice-agent-overview\n",
    "# https://docs.livekit.io/agents/start/voice-ai/\n",
    "\n",
    "# Create a project AI_Voice_Assistant on livekit cloud\n",
    "# https://cloud.livekit.io/projects/p_34qw70e3usd/overview\n",
    "\n",
    "# Your agent strings together three specialized providers into a high-performance voice pipeline.\n",
    "# You need accounts and API keys for each.\n",
    "\n",
    "# Components\n",
    "# STT\n",
    "# Provider: OpenAI \n",
    "# https://docs.livekit.io/agents/integrations/stt/openai/\n",
    "# https://pypi.org/project/livekit-plugins-openai/\n",
    "# Parameter: model, language (model: gpt-4o-transcribe (default) or whisper-1)\n",
    "# OPENAI_API_KEY in .venv\n",
    "# pip install livekit-plugins-openai\n",
    "\n",
    "# LLM:\n",
    "# Provider: OpenAI \n",
    "# https://docs.livekit.io/agents/integrations/llm/openai/\n",
    "# https://pypi.org/project/livekit-plugins-openai/\n",
    "# Parameter: model, temperature, tool_choice (model: gpt-4o-mini (default) or gpt-4o or o1)\n",
    "# OPENAI_API_KEY in .venv\n",
    "# pip install livekit-plugins-openai\n",
    "\n",
    "# TTS\n",
    "# Provider: Hume\n",
    "# https://docs.livekit.io/agents/integrations/tts/hume/\n",
    "# https://pypi.org/project/livekit-plugins-hume/\n",
    "# Parameter: voice, description, speed, context, instant_mode (voice and/or description: see documentation)\n",
    "# HUME_API_KEY\n",
    "# pip install livekit-plugins-hume\n",
    "\n",
    "# Usage:\n",
    "# See documantation (voice by name, id or even generated)\n",
    "\n",
    "#from livekit.plugins import hume\n",
    "#from hume.tts import PostedUtteranceVoiceWithName\n",
    "\n",
    "#session = AgentSession(\n",
    "#   tts=hume.TTS(\n",
    "#      voice=PostedUtteranceVoiceWithName(name=\"Colton Rivers\", provider=\"HUME_AI\"),\n",
    "#      description=\"The voice exudes calm, serene, and peaceful qualities, like a gentle stream flowing through a quiet forest.\",\n",
    "#   )\n",
    "# ... llm, stt, etc.\n",
    "#)\n"
   ]
  },
  {
   "cell_type": "code",
   "execution_count": null,
   "id": "e5f62980-a61b-4742-94b8-03088f3c590f",
   "metadata": {},
   "outputs": [],
   "source": [
    "# Additional documentation (slightly different)\n",
    "\n",
    "# Tech with Tim\n",
    "# Python AI Voice Assistant & Agent - Full Tutorial\n",
    "# https://www.youtube.com/watch?v=DNWLIAK4BUY"
   ]
  },
  {
   "cell_type": "code",
   "execution_count": null,
   "id": "2ef0f148-8c45-48c8-a423-f6aea4daa439",
   "metadata": {},
   "outputs": [],
   "source": [
    "# MCP tool\n",
    "\n",
    "# https://docs.livekit.io/agents/build/tools/#model-context-protocol-mcp-"
   ]
  },
  {
   "cell_type": "code",
   "execution_count": null,
   "id": "76a7aae2-78ad-42d4-b7c5-0ff8b0eaf13d",
   "metadata": {},
   "outputs": [],
   "source": [
    "# .env\n",
    "\n",
    "#OPENAI_API_KEY=<Your OpenAI API Key>\n",
    "#HUME_API_KEY=<Your Hume API Key>\n",
    "#LIVEKIT_API_KEY=<your API Key>\n",
    "#LIVEKIT_API_SECRET=<your API Secret>\n",
    "#LIVEKIT_URL=wss://aivoiceassistant-yf8o74l4.livekit.cloud\n"
   ]
  },
  {
   "cell_type": "code",
   "execution_count": null,
   "id": "f7b6bfce-90e0-4952-9685-0ad2474cb724",
   "metadata": {},
   "outputs": [],
   "source": [
    "# Python Packages\n",
    "\n",
    "#!pip install python-dotenv\n",
    "\n",
    "#!pip install livekit-plugins-openai\n",
    "#!pip install livekit-plugins-hume\n",
    "\n",
    "#!pip install livekit-agents[openai,openai,hume,silero,turn-detector]~=1.0\n",
    "#!pip install livekit-plugins-noise-cancellation~=0.2\n",
    "\n",
    "#!pip install livekit-agents[mcp]~=1.0"
   ]
  },
  {
   "cell_type": "code",
   "execution_count": 8,
   "id": "8fce2968-351d-449e-9196-ec21be33f05b",
   "metadata": {},
   "outputs": [],
   "source": [
    "#from dotenv import load_dotenv\n",
    "\n",
    "#from livekit import agents\n",
    "#from livekit.agents import AgentSession, Agent, RoomInputOptions\n",
    "#from livekit.plugins import (\n",
    "#    openai,\n",
    "#    hume,\n",
    "#    noise_cancellation,\n",
    "#    silero,\n",
    "#)\n",
    "#from livekit.plugins.turn_detector.multilingual import MultilingualModel\n",
    "\n",
    "#load_dotenv()"
   ]
  },
  {
   "cell_type": "code",
   "execution_count": 1,
   "id": "a9f4013f-8b1c-42ad-9a8b-037f7390ecd8",
   "metadata": {},
   "outputs": [
    {
     "data": {
      "text/plain": [
       "True"
      ]
     },
     "execution_count": 1,
     "metadata": {},
     "output_type": "execute_result"
    }
   ],
   "source": [
    "#from dotenv import load_dotenv\n",
    "#import asyncio\n",
    "\n",
    "#from livekit import agents\n",
    "#from livekit.agents import AgentSession, Agent, RoomInputOptions\n",
    "#from livekit.plugins import (\n",
    "#    openai,\n",
    "#    hume,\n",
    "#    noise_cancellation,\n",
    "#    silero,\n",
    "#)\n",
    "#from livekit.plugins.turn_detector.multilingual import MultilingualModel\n",
    "\n",
    "#load_dotenv()"
   ]
  },
  {
   "cell_type": "code",
   "execution_count": 5,
   "id": "c0a22131-c88d-44a2-813a-756c988b6338",
   "metadata": {},
   "outputs": [],
   "source": [
    "# from hume.tts import PostedUtteranceVoiceWithName"
   ]
  },
  {
   "cell_type": "code",
   "execution_count": 7,
   "id": "32c12474-a120-402e-8dd4-f380891ad240",
   "metadata": {},
   "outputs": [],
   "source": [
    "from dotenv import load_dotenv\n",
    "import asyncio\n",
    "\n",
    "from livekit import agents\n",
    "from livekit.agents import AgentSession, Agent, RoomInputOptions\n",
    "from livekit.agents import mcp\n",
    "from livekit.plugins import (\n",
    "    openai,\n",
    "    hume,\n",
    "    noise_cancellation,\n",
    "    silero, # Silero VAD plugin\n",
    ")\n",
    "from livekit.plugins.turn_detector.multilingual import MultilingualModel # LiveKit turn detector plugin\n",
    "\n",
    "from hume.tts import PostedUtteranceVoiceWithName\n",
    "from hume.tts import PostedUtteranceVoiceWithId\n",
    "\n",
    "load_dotenv()\n",
    "\n",
    "\n",
    "class Assistant(Agent):\n",
    "    def __init__(self) -> None:\n",
    "        super().__init__(instructions=\"You are a helpful voice AI assistant.\")\n",
    "\n",
    "\n",
    "async def entrypoint(ctx: agents.JobContext):\n",
    "    session = AgentSession(\n",
    "        stt=openai.STT(model=\"gpt-4o-transcribe\"),\n",
    "        llm=openai.LLM(model=\"gpt-4o-mini\"),\n",
    "#        tts=hume.TTS(\n",
    "##            voice=PostedUtteranceVoiceWithName(name=\"Ava Song\", provider=\"HUME_AI\"),\n",
    "##            voice=PostedUtteranceVoiceWithName(name=\"Warm Irish Woman\", provider=\"CUSTOM_VOICE\"),\n",
    "#            voice=PostedUtteranceVoiceWithId(id=\"0bae3af7-1f3a-426e-9285-13015427577c\"),\n",
    "##            description=\"The voice exudes calm, serene, and peaceful qualities, like a gentle stream flowing through a quiet forest.\",\n",
    "#        ),\n",
    "        tts=openai.TTS(\n",
    "            model=\"gpt-4o-mini-tts\",\n",
    "            voice=\"shimmer\",\n",
    "            instructions=\"Speak in a friendly and conversational tone.\",\n",
    "        ),\n",
    "        vad=silero.VAD.load(),\n",
    "        turn_detection=MultilingualModel(),\n",
    "        mcp_servers=[\n",
    "            mcp.MCPServerHTTP(\n",
    "#                \"https://jn2atbn3.rpcld.cc/mcp/9dd7b985-3694-40e5-a1d6-f9fe3c941dfe/sse\" # See \"N8N 2025-05-22 MCP server\"\n",
    "                url=\"https://jn2atbn3.rpcld.cc/mcp/9bdf3e79-c503-4a5c-b055-17bca1b40242/sse\", # See \"N8N 2025-06-12 MCP Server M-1\"\n",
    "                timeout=5,\n",
    "                client_session_timeout_seconds=5,\n",
    "            )       \n",
    "        ]         \n",
    "    )\n",
    "\n",
    "    await session.start(\n",
    "        room=ctx.room,\n",
    "        agent=Assistant(),\n",
    "        room_input_options=RoomInputOptions(\n",
    "            # LiveKit Cloud enhanced noise cancellation\n",
    "            # - If self-hosting, omit this parameter\n",
    "            # - For telephony applications, use `BVCTelephony` for best results\n",
    "            noise_cancellation=noise_cancellation.BVC(), \n",
    "        ),\n",
    "    )\n",
    "\n",
    "    await ctx.connect()\n",
    "\n",
    "    await session.generate_reply(\n",
    "        instructions=\"\"\"\n",
    "# Role\n",
    "You are a friendly and helpful assistant called Anna.\n",
    "Keep your answer short and to the point.\n",
    "Greet the user and offer your assistance.\n",
    "\n",
    "# Tools\n",
    "You have access to the following tools via MCP:\n",
    "## Gmail - Read eMails\n",
    "Use this tool to read unread eMails\n",
    "## Gmail - Send eMails\n",
    "Use this tool to send eMails. This tool requires the recipient email address, the email subject and email body text.\n",
    "If you have to retrieve an eMail address use the Pinecone Vector Store.\n",
    "Please underwrite the eMail with 'Anna (Personal Assistant of Jochen)'\n",
    "## Pinecone Vector Store\n",
    "Use this tool to retrieve eMail addresses. If you do not find the eMail address, stop and inform the user by 'Sorry, I cannot find the requested email address'.\n",
    "## Google Calendar - Get calendar events\n",
    "Use this tool to retrieve events, their time and location from the calendar\n",
    "## Google Calendar - Make calendar events\n",
    "Use this tool to schedule events for the calendar\n",
    "\"\"\"\n",
    "    )\n",
    "\n",
    "\n",
    "if __name__ == \"__main__\":\n",
    "    agents.cli.run_app(agents.WorkerOptions(entrypoint_fnc=entrypoint))"
   ]
  },
  {
   "cell_type": "code",
   "execution_count": null,
   "id": "6ec0d305-07f7-4416-9d9a-e31a8bd46cdd",
   "metadata": {},
   "outputs": [],
   "source": [
    "# Download livekit_ai_voice_agent.py "
   ]
  },
  {
   "cell_type": "code",
   "execution_count": null,
   "id": "16f6efd7-d971-403b-a79d-350e2d8c7a38",
   "metadata": {},
   "outputs": [],
   "source": [
    "# Download model files\n",
    "\n",
    "# To use the turn-detector, silero, or noise-cancellation plugins, you first need to download the model files:\n",
    "# C:\\Users\\Gebruiker\\.cache\\huggingface\\hub\\models--livekit--turn-detector"
   ]
  },
  {
   "cell_type": "code",
   "execution_count": null,
   "id": "0cccf82c-3fd7-4920-a8a2-0f71d7750bc8",
   "metadata": {},
   "outputs": [],
   "source": [
    "# Run in directory jupyter_notebook and in your virtual environment .venv_livekit\n",
    "\n",
    "# python livekit_ai_voice_agent_mcp.py download-files (already done by python livekit_ai_voice_agent.py download-files)"
   ]
  },
  {
   "cell_type": "code",
   "execution_count": null,
   "id": "e25077b7-114e-43b1-8f0f-0805480d8cb1",
   "metadata": {},
   "outputs": [],
   "source": [
    "# Speak to your agent\n",
    "# Run in directory jupyter_notebook and in your virtual environment .venv_livekit\n",
    "# Start your agent in console mode to run inside your terminal:"
   ]
  },
  {
   "cell_type": "code",
   "execution_count": null,
   "id": "0c506d13-f569-4d1c-a4e3-d1b9e78a7758",
   "metadata": {},
   "outputs": [],
   "source": [
    "# python livekit_ai_voice_agent_mcp.py console"
   ]
  },
  {
   "cell_type": "code",
   "execution_count": null,
   "id": "b61500a7-fbc2-479b-a2cb-c4f8ce2f814c",
   "metadata": {},
   "outputs": [],
   "source": [
    "# Connect to playground\n",
    "# Run in directory jupyter_notebook and in your virtual environment .venv_livekit\n",
    "# Start your agent in dev mode to connect it to LiveKit and make it available from anywhere on the internet:"
   ]
  },
  {
   "cell_type": "code",
   "execution_count": null,
   "id": "bb0685e6-f9c2-42af-a9bb-5bb640514373",
   "metadata": {},
   "outputs": [],
   "source": [
    "# python livekit_ai_voice_agent_mcp.py dev"
   ]
  },
  {
   "cell_type": "code",
   "execution_count": null,
   "id": "84205078-6020-4bf2-98e4-8ad9c27c662b",
   "metadata": {},
   "outputs": [],
   "source": [
    "# Use the Agents playground to speak with your agent and explore its full range of multimodal capabilities.\n",
    "\n",
    "# https://docs.livekit.io/agents/start/playground/\n",
    "# https://agents-playground.livekit.io/\n",
    "\n",
    "# Congratulations, your agent is up and running. Continue to use the playground or the console mode as you build and test your agent.\n",
    "\n",
    "# Agent CLI modes\n",
    "# In the console mode, the agent runs locally and is only available within your terminal.\n",
    "\n",
    "# Run your agent in dev (development / debug) or start (production) mode to connect to LiveKit and join rooms."
   ]
  },
  {
   "cell_type": "code",
   "execution_count": null,
   "id": "abc991a7-74d8-4000-85ba-16cfcb80c6aa",
   "metadata": {},
   "outputs": [],
   "source": [
    "# I can access the agent\n",
    "#    via the Livekit playground: https://agents-playground.livekit.io/\n",
    "#    via the Livekit Sandbox directly: https://synchronized-server-2h6j7i.sandbox.livekit.io/ \n",
    "#    via the Livekit Sandbox overview: https://cloud.livekit.io/projects/p_34qw70e3usd/sandbox\n"
   ]
  },
  {
   "cell_type": "code",
   "execution_count": null,
   "id": "d0494460-6b48-4465-8780-8e58dc08d0f2",
   "metadata": {},
   "outputs": [],
   "source": [
    "# NEXT STEPS\n",
    "# https://docs.livekit.io/agents/start/voice-ai/#next-steps\n",
    "\n",
    "# https://docs.livekit.io/agents/start/frontend/\n",
    "# https://docs.livekit.io/agents/build/\n",
    "...\n"
   ]
  }
 ],
 "metadata": {
  "kernelspec": {
   "display_name": "Python (.venv_livekit)",
   "language": "python",
   "name": ".venv_livekit"
  },
  "language_info": {
   "codemirror_mode": {
    "name": "ipython",
    "version": 3
   },
   "file_extension": ".py",
   "mimetype": "text/x-python",
   "name": "python",
   "nbconvert_exporter": "python",
   "pygments_lexer": "ipython3",
   "version": "3.12.0"
  }
 },
 "nbformat": 4,
 "nbformat_minor": 5
}
